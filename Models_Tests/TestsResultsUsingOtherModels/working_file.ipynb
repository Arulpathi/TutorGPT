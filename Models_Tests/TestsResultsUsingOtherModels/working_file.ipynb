{
  "cells": [
    {
      "cell_type": "code",
      "execution_count": 11,
      "metadata": {
        "id": "xsMAnNjJS9Y6"
      },
      "outputs": [],
      "source": [
        "import os\n",
        "import time\n",
        "import pandas as pd\n",
        "import torch\n",
        "import numpy as np\n",
        "import matplotlib.pyplot as plt\n",
        "from google.colab import files\n",
        "from transformers import AutoTokenizer, AutoModel, pipeline\n",
        "from sentence_transformers import SentenceTransformer\n",
        "from langchain.embeddings import HuggingFaceEmbeddings\n",
        "from langchain.vectorstores import FAISS\n",
        "from langchain.document_loaders import PyPDFLoader, TextLoader, CSVLoader, Docx2txtLoader\n",
        "from langchain.chains import RetrievalQA\n",
        "from langchain.prompts import PromptTemplate\n",
        "import pytesseract\n",
        "from PIL import Image\n",
        "from openpyxl import load_workbook"
      ]
    },
    {
      "cell_type": "code",
      "execution_count": 12,
      "metadata": {
        "id": "lFdFdd3KTAp1"
      },
      "outputs": [],
      "source": [
        "# Hugging Face Token\n",
        "HF_TOKEN = \"HF_TOKEN\"\n",
        "\n",
        "def upload_files():\n",
        "    uploaded = files.upload()\n",
        "    return list(uploaded.keys())\n",
        "\n",
        "def get_file_paths():\n",
        "    file_path = input(\"Enter the full file path: \").strip()\n",
        "    return [file_path] if os.path.exists(file_path) else []\n",
        "\n",
        "from openpyxl import load_workbook\n",
        "import pytesseract\n",
        "from PIL import Image\n",
        "\n",
        "def load_documents(file_paths):\n",
        "    documents = []\n",
        "    for file in file_paths:\n",
        "        ext = file.split(\".\")[-1].lower()\n",
        "        loader = None  # Initialize loader variable\n",
        "        if ext == \"pdf\":\n",
        "            loader = PyPDFLoader(file)\n",
        "        elif ext in [\"doc\", \"docx\"]:\n",
        "            loader = Docx2txtLoader(file)\n",
        "        elif ext == \"csv\":\n",
        "            loader = CSVLoader(file, encoding=\"latin1\")  # Handle encoding issues\n",
        "        elif ext == \"txt\":\n",
        "            loader = TextLoader(file)\n",
        "        elif ext in [\"jpg\", \"jpeg\", \"png\"]:  # OCR for images\n",
        "            text = pytesseract.image_to_string(Image.open(file))\n",
        "            documents.append(text)  # Directly append text (not wrapped in dict)\n",
        "        elif ext == \"xlsx\":  # Handle Excel files\n",
        "            wb = load_workbook(file)\n",
        "            sheet = wb.active\n",
        "            text = \"\"\n",
        "            for row in sheet.iter_rows(values_only=True):\n",
        "                text += \" \".join([str(cell) for cell in row if cell]) + \"\\n\"\n",
        "            documents.append(text)  # Directly append text (not wrapped in dict)\n",
        "        else:\n",
        "            print(f\"Unsupported file type: {file}\")\n",
        "            continue\n",
        "\n",
        "        if loader:  # Only extend if loader is not None\n",
        "            loaded_docs = loader.load()\n",
        "            # Ensure all loaded documents are in consistent format\n",
        "            for doc in loaded_docs:\n",
        "                documents.append(doc.page_content)  # Directly append the text (not wrapped in dict)\n",
        "\n",
        "    return documents  # Return a list of texts\n",
        "\n"
      ]
    },
    {
      "cell_type": "code",
      "execution_count": 13,
      "metadata": {
        "collapsed": true,
        "id": "j5CxSlyhTAmC"
      },
      "outputs": [],
      "source": [
        "# Choose an embedding model\n",
        "EMBEDDING_MODEL_NAME = \"BAAI/bge-large-en\"\n",
        "embedding_model = HuggingFaceEmbeddings(model_name=EMBEDDING_MODEL_NAME, model_kwargs={\"device\": \"cuda\" if torch.cuda.is_available() else \"cpu\"})\n",
        "def index_documents(documents):\n",
        "    if not documents:\n",
        "        print(\"No valid text documents found for indexing.\")\n",
        "        return None\n",
        "    faiss_index = FAISS.from_texts(documents, embedding_model)\n",
        "    return faiss_index\n"
      ]
    },
    {
      "cell_type": "code",
      "execution_count": 14,
      "metadata": {
        "id": "5NbZmcwHTAjv"
      },
      "outputs": [],
      "source": [
        "from transformers import pipeline\n",
        "from transformers import TextGenerationPipeline, AutoTokenizer, AutoModelForCausalLM\n",
        "from huggingface_hub import InferenceClient\n",
        "# Choose a free QA model from Hugging Face\n",
        "QA_MODEL_NAME = \"meta-llama/Meta-Llama-3-8B-Instruct\"\n",
        "\n",
        "client = InferenceClient(model=QA_MODEL_NAME, token=HF_TOKEN)\n",
        "\n",
        "def query_documents(faiss_index, query):\n",
        "    if faiss_index is None:\n",
        "        return \"No indexed documents available.\"\n",
        "    retriever = faiss_index.as_retriever()\n",
        "    relevant_docs = retriever.get_relevant_documents(query)\n",
        "    if not relevant_docs:\n",
        "        return \"No relevant information found in the documents.\"\n",
        "\n",
        "    context = \" \".join([doc.page_content for doc in relevant_docs])\n",
        "    prompt = f\"Based on the following information, answer the question comprehensively:\\n\\nContext: {context}\\n\\nQuestion: {query}\\n\\nAnswer:\"\n",
        "\n",
        "    response = client.text_generation(prompt, max_new_tokens=512)  # Call API instead of downloading\n",
        "    return response\n"
      ]
    },
    {
      "cell_type": "code",
      "execution_count": 15,
      "metadata": {
        "id": "It0iKv01TVlP"
      },
      "outputs": [],
      "source": [
        "def evaluate_performance(queries, faiss_index, indexing_time):\n",
        "    results = []\n",
        "    for query in queries:\n",
        "        start_time = time.time()\n",
        "        response = query_documents(faiss_index, query)\n",
        "        response_time = time.time() - start_time\n",
        "        results.append({\"Query\": query, \"Response\": response, \"Response Time (s)\": response_time, \"Indexing Time (s)\": indexing_time})\n",
        "    df = pd.DataFrame(results)\n",
        "    df.to_csv(\"evaluation_results.csv\", index=False)\n",
        "    print(\"Evaluation results saved to evaluation_results.csv\")\n",
        "    return df\n",
        "\n",
        "\n",
        "def visualize_results(df):\n",
        "    plt.figure(figsize=(10, 5))\n",
        "    plt.barh(df[\"Query\"], df[\"Response Time (s)\"], color='skyblue')\n",
        "    plt.xlabel(\"Response Time (s)\")\n",
        "    plt.ylabel(\"Query\")\n",
        "    plt.title(\"Response Time for Queries\")\n",
        "    plt.show()"
      ]
    },
    {
      "cell_type": "code",
      "execution_count": 16,
      "metadata": {
        "collapsed": true,
        "id": "IGPeJQVMUZB9"
      },
      "outputs": [],
      "source": [
        "#!pip install pypdf\n",
        "#!pip install docx2txt\n",
        "#!apt-get update\n",
        "#!apt-get install -y tesseract-ocr\n",
        "#!pip install pytesseract pillow"
      ]
    },
    {
      "cell_type": "code",
      "execution_count": 20,
      "metadata": {
        "colab": {
          "base_uri": "https://localhost:8080/",
          "height": 633
        },
        "id": "PCKyWD8JTY-1",
        "outputId": "a88ccd04-9afe-43d8-dfc1-23a2fff97168"
      },
      "outputs": [
        {
          "name": "stdout",
          "output_type": "stream",
          "text": [
            "Do you want to upload files (U) or provide file paths (P)? p\n",
            "Enter the full file path: /content/clear_img.jpg\n",
            "Indexing Time: 2.78 seconds\n",
            "Enter your query (or type 'exit' to quit): what the image about?\n",
            "Response:  The image is about the Annual Sports Day - Intramural Schedule.\n",
            "Enter your query (or type 'exit' to quit): exit\n",
            "Evaluation results saved to evaluation_results.csv\n"
          ]
        },
        {
          "data": {
            "image/png": "[encoded data removed]",
            "text/plain": [
              "<Figure size 1000x500 with 1 Axes>"
            ]
          },
          "metadata": {},
          "output_type": "display_data"
        },
        {
          "name": "stdout",
          "output_type": "stream",
          "text": [
            "Evaluation results saved to evaluation_results.csv\n"
          ]
        }
      ],
      "source": [
        "w# Main Execution\n",
        "option = input(\"Do you want to upload files (U) or provide file paths (P)? \").strip().lower()\n",
        "if option == \"u\":\n",
        "    file_list = upload_files()\n",
        "elif option == \"p\":\n",
        "    file_list = get_file_paths()\n",
        "else:\n",
        "    print(\"Invalid option. Exiting...\")\n",
        "    exit()\n",
        "\n",
        "documents = load_documents(file_list)\n",
        "start_indexing = time.time()\n",
        "faiss_index = index_documents(documents)\n",
        "indexing_time = time.time() - start_indexing\n",
        "print(f\"Indexing Time: {indexing_time:.2f} seconds\")\n",
        "\n",
        "queries = []\n",
        "while True:\n",
        "    user_query = input(\"Enter your query (or type 'exit' to quit): \")\n",
        "    if user_query.lower() == 'exit':\n",
        "        break\n",
        "    queries.append(user_query)\n",
        "    response = query_documents(faiss_index, user_query)\n",
        "    print(f\"Response: {response}\")\n",
        "\n",
        "evaluation_df = evaluate_performance(queries, faiss_index, indexing_time)\n",
        "visualize_results(evaluation_df)\n",
        "print(\"Evaluation results saved to evaluation_results.csv\")"
      ]
    }
  ],
  "metadata": {
    "colab": {
      "provenance": []
    },
    "kernelspec": {
      "display_name": "Python 3",
      "name": "python3"
    },
    "language_info": {
      "name": "python"
    }
  },
  "nbformat": 4,
  "nbformat_minor": 0
}
